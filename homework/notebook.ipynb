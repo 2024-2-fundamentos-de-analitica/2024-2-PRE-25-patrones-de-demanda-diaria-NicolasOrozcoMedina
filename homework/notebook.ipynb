{
 "cells": [
  {
   "cell_type": "code",
   "execution_count": 2,
   "metadata": {},
   "outputs": [],
   "source": [
    "#\n",
    "# Descarga de datos\n",
    "#\n",
    "import pandas as pd\n",
    "\n",
    "\n",
    "owner = \"jdvelasq\"\n",
    "repo = \"datalabs\"\n",
    "file = \"datasets/demanda_comercial.csv\"\n",
    "\n",
    "file_url = f\"https://raw.githubusercontent.com/{owner}/{repo}/master/{file}\""
   ]
  },
  {
   "cell_type": "code",
   "execution_count": 3,
   "metadata": {},
   "outputs": [
    {
     "data": {
      "text/html": [
       "<div>\n",
       "<style scoped>\n",
       "    .dataframe tbody tr th:only-of-type {\n",
       "        vertical-align: middle;\n",
       "    }\n",
       "\n",
       "    .dataframe tbody tr th {\n",
       "        vertical-align: top;\n",
       "    }\n",
       "\n",
       "    .dataframe thead th {\n",
       "        text-align: right;\n",
       "    }\n",
       "</style>\n",
       "<table border=\"1\" class=\"dataframe\">\n",
       "  <thead>\n",
       "    <tr style=\"text-align: right;\">\n",
       "      <th></th>\n",
       "      <th>Fecha</th>\n",
       "      <th>H01</th>\n",
       "      <th>H02</th>\n",
       "      <th>H03</th>\n",
       "      <th>H04</th>\n",
       "      <th>H05</th>\n",
       "      <th>H06</th>\n",
       "      <th>H07</th>\n",
       "      <th>H08</th>\n",
       "      <th>H09</th>\n",
       "      <th>...</th>\n",
       "      <th>H15</th>\n",
       "      <th>H16</th>\n",
       "      <th>H17</th>\n",
       "      <th>H18</th>\n",
       "      <th>H19</th>\n",
       "      <th>H20</th>\n",
       "      <th>H21</th>\n",
       "      <th>H22</th>\n",
       "      <th>H23</th>\n",
       "      <th>H24</th>\n",
       "    </tr>\n",
       "  </thead>\n",
       "  <tbody>\n",
       "    <tr>\n",
       "      <th>0</th>\n",
       "      <td>2017-01-01</td>\n",
       "      <td>6090271.96</td>\n",
       "      <td>5887031.28</td>\n",
       "      <td>5708693.89</td>\n",
       "      <td>5538133.02</td>\n",
       "      <td>5389774.53</td>\n",
       "      <td>5288199.94</td>\n",
       "      <td>4851217.85</td>\n",
       "      <td>4876162.18</td>\n",
       "      <td>5073813.27</td>\n",
       "      <td>...</td>\n",
       "      <td>5745568.87</td>\n",
       "      <td>5647807.40</td>\n",
       "      <td>5609297.84</td>\n",
       "      <td>5690105.56</td>\n",
       "      <td>6761038.26</td>\n",
       "      <td>7077861.59</td>\n",
       "      <td>6979468.90</td>\n",
       "      <td>6695312.12</td>\n",
       "      <td>6289107.72</td>\n",
       "      <td>5794545.98</td>\n",
       "    </tr>\n",
       "    <tr>\n",
       "      <th>1</th>\n",
       "      <td>2017-01-02</td>\n",
       "      <td>5557603.42</td>\n",
       "      <td>5361012.17</td>\n",
       "      <td>5239119.86</td>\n",
       "      <td>5163721.70</td>\n",
       "      <td>5249539.75</td>\n",
       "      <td>5438852.95</td>\n",
       "      <td>5566947.57</td>\n",
       "      <td>6055220.80</td>\n",
       "      <td>6588005.66</td>\n",
       "      <td>...</td>\n",
       "      <td>7610559.73</td>\n",
       "      <td>7584026.97</td>\n",
       "      <td>7421194.49</td>\n",
       "      <td>7317194.26</td>\n",
       "      <td>8182697.67</td>\n",
       "      <td>8482127.69</td>\n",
       "      <td>8251009.75</td>\n",
       "      <td>7836278.95</td>\n",
       "      <td>7221234.85</td>\n",
       "      <td>6660691.64</td>\n",
       "    </tr>\n",
       "    <tr>\n",
       "      <th>2</th>\n",
       "      <td>2017-01-03</td>\n",
       "      <td>6160676.02</td>\n",
       "      <td>5924880.04</td>\n",
       "      <td>5764416.93</td>\n",
       "      <td>5685832.28</td>\n",
       "      <td>5778222.13</td>\n",
       "      <td>5985840.29</td>\n",
       "      <td>6083907.36</td>\n",
       "      <td>6545100.21</td>\n",
       "      <td>7092804.54</td>\n",
       "      <td>...</td>\n",
       "      <td>8148614.93</td>\n",
       "      <td>8117168.00</td>\n",
       "      <td>7930900.03</td>\n",
       "      <td>7783762.28</td>\n",
       "      <td>8653467.38</td>\n",
       "      <td>8835882.88</td>\n",
       "      <td>8562448.23</td>\n",
       "      <td>8095841.79</td>\n",
       "      <td>7443299.51</td>\n",
       "      <td>6840297.15</td>\n",
       "    </tr>\n",
       "    <tr>\n",
       "      <th>3</th>\n",
       "      <td>2017-01-04</td>\n",
       "      <td>6321851.20</td>\n",
       "      <td>6092135.24</td>\n",
       "      <td>5905390.85</td>\n",
       "      <td>5827867.82</td>\n",
       "      <td>5925730.02</td>\n",
       "      <td>6182279.89</td>\n",
       "      <td>6276759.96</td>\n",
       "      <td>6737660.53</td>\n",
       "      <td>7256819.19</td>\n",
       "      <td>...</td>\n",
       "      <td>8164513.51</td>\n",
       "      <td>8132006.92</td>\n",
       "      <td>7962749.39</td>\n",
       "      <td>7841533.59</td>\n",
       "      <td>8700506.07</td>\n",
       "      <td>8860255.66</td>\n",
       "      <td>8611085.76</td>\n",
       "      <td>8147451.75</td>\n",
       "      <td>7471240.82</td>\n",
       "      <td>6838250.32</td>\n",
       "    </tr>\n",
       "    <tr>\n",
       "      <th>4</th>\n",
       "      <td>2017-01-05</td>\n",
       "      <td>6395397.96</td>\n",
       "      <td>6162409.22</td>\n",
       "      <td>6001153.67</td>\n",
       "      <td>5918673.26</td>\n",
       "      <td>6005924.21</td>\n",
       "      <td>6225027.53</td>\n",
       "      <td>6322923.78</td>\n",
       "      <td>6739120.44</td>\n",
       "      <td>7307847.42</td>\n",
       "      <td>...</td>\n",
       "      <td>8144209.65</td>\n",
       "      <td>8136193.07</td>\n",
       "      <td>8022918.36</td>\n",
       "      <td>7927405.07</td>\n",
       "      <td>8718181.89</td>\n",
       "      <td>8832234.87</td>\n",
       "      <td>8579992.47</td>\n",
       "      <td>8063978.64</td>\n",
       "      <td>7406615.66</td>\n",
       "      <td>6829864.57</td>\n",
       "    </tr>\n",
       "  </tbody>\n",
       "</table>\n",
       "<p>5 rows × 25 columns</p>\n",
       "</div>"
      ],
      "text/plain": [
       "        Fecha         H01         H02         H03         H04         H05  \\\n",
       "0  2017-01-01  6090271.96  5887031.28  5708693.89  5538133.02  5389774.53   \n",
       "1  2017-01-02  5557603.42  5361012.17  5239119.86  5163721.70  5249539.75   \n",
       "2  2017-01-03  6160676.02  5924880.04  5764416.93  5685832.28  5778222.13   \n",
       "3  2017-01-04  6321851.20  6092135.24  5905390.85  5827867.82  5925730.02   \n",
       "4  2017-01-05  6395397.96  6162409.22  6001153.67  5918673.26  6005924.21   \n",
       "\n",
       "          H06         H07         H08         H09  ...         H15  \\\n",
       "0  5288199.94  4851217.85  4876162.18  5073813.27  ...  5745568.87   \n",
       "1  5438852.95  5566947.57  6055220.80  6588005.66  ...  7610559.73   \n",
       "2  5985840.29  6083907.36  6545100.21  7092804.54  ...  8148614.93   \n",
       "3  6182279.89  6276759.96  6737660.53  7256819.19  ...  8164513.51   \n",
       "4  6225027.53  6322923.78  6739120.44  7307847.42  ...  8144209.65   \n",
       "\n",
       "          H16         H17         H18         H19         H20         H21  \\\n",
       "0  5647807.40  5609297.84  5690105.56  6761038.26  7077861.59  6979468.90   \n",
       "1  7584026.97  7421194.49  7317194.26  8182697.67  8482127.69  8251009.75   \n",
       "2  8117168.00  7930900.03  7783762.28  8653467.38  8835882.88  8562448.23   \n",
       "3  8132006.92  7962749.39  7841533.59  8700506.07  8860255.66  8611085.76   \n",
       "4  8136193.07  8022918.36  7927405.07  8718181.89  8832234.87  8579992.47   \n",
       "\n",
       "          H22         H23         H24  \n",
       "0  6695312.12  6289107.72  5794545.98  \n",
       "1  7836278.95  7221234.85  6660691.64  \n",
       "2  8095841.79  7443299.51  6840297.15  \n",
       "3  8147451.75  7471240.82  6838250.32  \n",
       "4  8063978.64  7406615.66  6829864.57  \n",
       "\n",
       "[5 rows x 25 columns]"
      ]
     },
     "execution_count": 3,
     "metadata": {},
     "output_type": "execute_result"
    }
   ],
   "source": [
    "data = pd.read_csv(file_url, sep=\";\", decimal=\",\", thousands=\".\")\n",
    "data.head()\n"
   ]
  },
  {
   "cell_type": "code",
   "execution_count": 4,
   "metadata": {},
   "outputs": [
    {
     "data": {
      "text/html": [
       "<div>\n",
       "<style scoped>\n",
       "    .dataframe tbody tr th:only-of-type {\n",
       "        vertical-align: middle;\n",
       "    }\n",
       "\n",
       "    .dataframe tbody tr th {\n",
       "        vertical-align: top;\n",
       "    }\n",
       "\n",
       "    .dataframe thead th {\n",
       "        text-align: right;\n",
       "    }\n",
       "</style>\n",
       "<table border=\"1\" class=\"dataframe\">\n",
       "  <thead>\n",
       "    <tr style=\"text-align: right;\">\n",
       "      <th></th>\n",
       "      <th>Fecha</th>\n",
       "      <th>hora</th>\n",
       "      <th>demanda</th>\n",
       "    </tr>\n",
       "  </thead>\n",
       "  <tbody>\n",
       "    <tr>\n",
       "      <th>0</th>\n",
       "      <td>2017-01-01</td>\n",
       "      <td>H01</td>\n",
       "      <td>6090271.96</td>\n",
       "    </tr>\n",
       "    <tr>\n",
       "      <th>1</th>\n",
       "      <td>2017-01-01</td>\n",
       "      <td>H02</td>\n",
       "      <td>5887031.28</td>\n",
       "    </tr>\n",
       "    <tr>\n",
       "      <th>2</th>\n",
       "      <td>2017-01-01</td>\n",
       "      <td>H03</td>\n",
       "      <td>5708693.89</td>\n",
       "    </tr>\n",
       "    <tr>\n",
       "      <th>3</th>\n",
       "      <td>2017-01-01</td>\n",
       "      <td>H04</td>\n",
       "      <td>5538133.02</td>\n",
       "    </tr>\n",
       "    <tr>\n",
       "      <th>4</th>\n",
       "      <td>2017-01-01</td>\n",
       "      <td>H05</td>\n",
       "      <td>5389774.53</td>\n",
       "    </tr>\n",
       "  </tbody>\n",
       "</table>\n",
       "</div>"
      ],
      "text/plain": [
       "        Fecha hora     demanda\n",
       "0  2017-01-01  H01  6090271.96\n",
       "1  2017-01-01  H02  5887031.28\n",
       "2  2017-01-01  H03  5708693.89\n",
       "3  2017-01-01  H04  5538133.02\n",
       "4  2017-01-01  H05  5389774.53"
      ]
     },
     "execution_count": 4,
     "metadata": {},
     "output_type": "execute_result"
    }
   ],
   "source": [
    "\n",
    "#\n",
    "# Se organizan los datos para graficarlos.\n",
    "#\n",
    "data_to_plot = data.copy()\n",
    "data_to_plot = data_to_plot.melt(\n",
    "    id_vars=[\"Fecha\"], var_name=\"hora\", value_name=\"demanda\"\n",
    ")\n",
    "data_to_plot = data_to_plot.sort_values(by=[\"Fecha\", \"hora\"])\n",
    "data_to_plot = data_to_plot.reset_index(drop=True)\n",
    "data_to_plot = data_to_plot.head(500)\n",
    "data_to_plot.head()"
   ]
  },
  {
   "cell_type": "code",
   "execution_count": 5,
   "metadata": {},
   "outputs": [],
   "source": [
    "# Crea una carpeta de salida\n",
    "#\n",
    "import os\n",
    "\n",
    "if not os.path.exists(\"../files/plots\"):\n",
    "    os.makedirs(\"../files/plots\")\n",
    "\n",
    "if not os.path.exists(\"../files/data\"):\n",
    "    os.makedirs(\"../files/data\")"
   ]
  },
  {
   "cell_type": "code",
   "execution_count": 19,
   "metadata": {},
   "outputs": [],
   "source": [
    "import matplotlib.pyplot as plt\n",
    "#\n",
    "# Patrones de ejemplo\n",
    "#\n",
    "#plt.figure(figsize=(7, 4))\n",
    "#plt.plot(data.loc[\"1970-01-01\", :], \".-\", color=\"tab:blue\")\n",
    "#plt.plot(data.loc[\"1970-01-02\", :], \".-\", color=\"tab:orange\")\n",
    "#plt.plot(data.loc[\"1970-01-03\", :], \".-\", color=\"tab:green\")\n",
    "#plt.xticks(rotation=90)\n",
    "#plt.show()\n"
   ]
  },
  {
   "cell_type": "code",
   "execution_count": 20,
   "metadata": {},
   "outputs": [],
   "source": [
    "#\n",
    "# Se divide cada fila por el máximo de la fila para\n",
    "# hacer adimensionales los datos\n",
    "#\n",
    "#data = data.apply(lambda row: row / row.max(), axis=1)\n",
    "#data.head(10)"
   ]
  },
  {
   "cell_type": "code",
   "execution_count": 21,
   "metadata": {},
   "outputs": [],
   "source": [
    "#\n",
    "# Patrones de ejemplo\n",
    "#\n",
    "#plt.figure(figsize=(7, 4))\n",
    "#plt.plot(data.loc[\"2017-06-05\", :], \".-\", color=\"tab:blue\")\n",
    "#plt.plot(data.loc[\"2018-06-05\", :], \".-\", color=\"tab:orange\")\n",
    "#plt.plot(data.loc[\"2022-06-03\", :], \".-\", color=\"tab:green\")\n",
    "#plt.xticks(rotation=90)\n",
    "#plt.savefig(\"../files/plots/demanda-comercial-patrones-ejemplo.png\")\n",
    "#plt.show()\n"
   ]
  },
  {
   "cell_type": "code",
   "execution_count": 23,
   "metadata": {},
   "outputs": [
    {
     "data": {
      "text/plain": [
       "<Figure size 640x480 with 0 Axes>"
      ]
     },
     "metadata": {},
     "output_type": "display_data"
    }
   ],
   "source": [
    "plt.savefig(\"../files/plots/demanda-comercial-patrones-ejemplo.png\")"
   ]
  },
  {
   "cell_type": "code",
   "execution_count": 22,
   "metadata": {},
   "outputs": [
    {
     "data": {
      "text/plain": [
       "<Figure size 640x480 with 0 Axes>"
      ]
     },
     "metadata": {},
     "output_type": "display_data"
    }
   ],
   "source": [
    "plt.savefig(\"../files/plots/demanda-comercial-perfiles.png\")"
   ]
  },
  {
   "cell_type": "code",
   "execution_count": 24,
   "metadata": {},
   "outputs": [
    {
     "data": {
      "text/plain": [
       "<Figure size 640x480 with 0 Axes>"
      ]
     },
     "metadata": {},
     "output_type": "display_data"
    }
   ],
   "source": [
    "plt.savefig(\"../files/plots/demanda-comercial.png\")"
   ]
  }
 ],
 "metadata": {
  "kernelspec": {
   "display_name": ".venv",
   "language": "python",
   "name": "python3"
  },
  "language_info": {
   "codemirror_mode": {
    "name": "ipython",
    "version": 3
   },
   "file_extension": ".py",
   "mimetype": "text/x-python",
   "name": "python",
   "nbconvert_exporter": "python",
   "pygments_lexer": "ipython3",
   "version": "3.11.9"
  }
 },
 "nbformat": 4,
 "nbformat_minor": 2
}
